{
  "cells": [
    {
      "cell_type": "markdown",
      "id": "06e5882a-52f9-47a0-8a9c-183b3353b99e",
      "metadata": {
        "id": "06e5882a-52f9-47a0-8a9c-183b3353b99e"
      },
      "source": [
        "# Agenda\n",
        "- Installation and import of neccessary packages\n",
        "- Download neccesary corpus from NLTK\n",
        "- Data Cleaning\n",
        "  - Tokenization\n",
        "  - Changing case\n",
        "  - Spelling correction\n",
        "  - POS Tagging\n",
        "  - Named Entity Recognition\n",
        "  - Stemming and  Lemmetization\n",
        "  - Noise Entity Removal\n",
        "    - Remove stop words\n",
        "    - remove urls\n",
        "    - remove punctuation\n",
        "    - remove emoticons"
      ]
    },
    {
      "cell_type": "code",
      "execution_count": 1,
      "id": "bcfaedb9-d500-48fe-a1fc-125ccf48edda",
      "metadata": {
        "id": "bcfaedb9-d500-48fe-a1fc-125ccf48edda"
      },
      "outputs": [],
      "source": [
        "#pip install nltk"
      ]
    },
    {
      "cell_type": "code",
      "execution_count": 2,
      "id": "3cc1a2f3-a62e-4ba0-ad86-5ae9ac10e55b",
      "metadata": {
        "id": "3cc1a2f3-a62e-4ba0-ad86-5ae9ac10e55b"
      },
      "outputs": [],
      "source": [
        "#pip install spacy"
      ]
    },
    {
      "cell_type": "code",
      "execution_count": 3,
      "id": "382dbd1e-c119-4243-89e3-0b54c1eb7c52",
      "metadata": {
        "id": "382dbd1e-c119-4243-89e3-0b54c1eb7c52"
      },
      "outputs": [],
      "source": [
        "#!python -m spacy download en_core_web_sm"
      ]
    },
    {
      "cell_type": "code",
      "execution_count": 4,
      "id": "1a2861a1-e181-48d9-97bb-8574284b4eeb",
      "metadata": {
        "id": "1a2861a1-e181-48d9-97bb-8574284b4eeb"
      },
      "outputs": [],
      "source": [
        "#pip install svgling"
      ]
    },
    {
      "cell_type": "code",
      "execution_count": 5,
      "id": "cdcdf433-be09-4e30-bb1f-1d4275337cdd",
      "metadata": {
        "id": "cdcdf433-be09-4e30-bb1f-1d4275337cdd"
      },
      "outputs": [],
      "source": [
        "import nltk\n",
        "import spacy\n",
        "import re\n",
        "from string import punctuation"
      ]
    },
    {
      "cell_type": "code",
      "execution_count": 6,
      "id": "1b877aaf-cf0c-4c28-943d-07ef780e36e2",
      "metadata": {
        "colab": {
          "base_uri": "https://localhost:8080/"
        },
        "id": "1b877aaf-cf0c-4c28-943d-07ef780e36e2",
        "outputId": "01e237bb-9bb6-4011-effe-4d7077947161"
      },
      "outputs": [
        {
          "output_type": "stream",
          "name": "stderr",
          "text": [
            "[nltk_data] Downloading collection 'popular'\n",
            "[nltk_data]    | \n",
            "[nltk_data]    | Downloading package cmudict to /root/nltk_data...\n",
            "[nltk_data]    |   Unzipping corpora/cmudict.zip.\n",
            "[nltk_data]    | Downloading package gazetteers to /root/nltk_data...\n",
            "[nltk_data]    |   Unzipping corpora/gazetteers.zip.\n",
            "[nltk_data]    | Downloading package genesis to /root/nltk_data...\n",
            "[nltk_data]    |   Unzipping corpora/genesis.zip.\n",
            "[nltk_data]    | Downloading package gutenberg to /root/nltk_data...\n",
            "[nltk_data]    |   Unzipping corpora/gutenberg.zip.\n",
            "[nltk_data]    | Downloading package inaugural to /root/nltk_data...\n",
            "[nltk_data]    |   Unzipping corpora/inaugural.zip.\n",
            "[nltk_data]    | Downloading package movie_reviews to\n",
            "[nltk_data]    |     /root/nltk_data...\n",
            "[nltk_data]    |   Unzipping corpora/movie_reviews.zip.\n",
            "[nltk_data]    | Downloading package names to /root/nltk_data...\n",
            "[nltk_data]    |   Unzipping corpora/names.zip.\n",
            "[nltk_data]    | Downloading package shakespeare to /root/nltk_data...\n",
            "[nltk_data]    |   Unzipping corpora/shakespeare.zip.\n",
            "[nltk_data]    | Downloading package stopwords to /root/nltk_data...\n",
            "[nltk_data]    |   Unzipping corpora/stopwords.zip.\n",
            "[nltk_data]    | Downloading package treebank to /root/nltk_data...\n",
            "[nltk_data]    |   Unzipping corpora/treebank.zip.\n",
            "[nltk_data]    | Downloading package twitter_samples to\n",
            "[nltk_data]    |     /root/nltk_data...\n",
            "[nltk_data]    |   Unzipping corpora/twitter_samples.zip.\n",
            "[nltk_data]    | Downloading package omw to /root/nltk_data...\n",
            "[nltk_data]    | Downloading package omw-1.4 to /root/nltk_data...\n",
            "[nltk_data]    | Downloading package wordnet to /root/nltk_data...\n",
            "[nltk_data]    | Downloading package wordnet2021 to /root/nltk_data...\n",
            "[nltk_data]    | Downloading package wordnet31 to /root/nltk_data...\n",
            "[nltk_data]    | Downloading package wordnet_ic to /root/nltk_data...\n",
            "[nltk_data]    |   Unzipping corpora/wordnet_ic.zip.\n",
            "[nltk_data]    | Downloading package words to /root/nltk_data...\n",
            "[nltk_data]    |   Unzipping corpora/words.zip.\n",
            "[nltk_data]    | Downloading package maxent_ne_chunker to\n",
            "[nltk_data]    |     /root/nltk_data...\n",
            "[nltk_data]    |   Unzipping chunkers/maxent_ne_chunker.zip.\n",
            "[nltk_data]    | Downloading package punkt to /root/nltk_data...\n",
            "[nltk_data]    |   Unzipping tokenizers/punkt.zip.\n",
            "[nltk_data]    | Downloading package snowball_data to\n",
            "[nltk_data]    |     /root/nltk_data...\n",
            "[nltk_data]    | Downloading package averaged_perceptron_tagger to\n",
            "[nltk_data]    |     /root/nltk_data...\n",
            "[nltk_data]    |   Unzipping taggers/averaged_perceptron_tagger.zip.\n",
            "[nltk_data]    | \n",
            "[nltk_data]  Done downloading collection popular\n"
          ]
        },
        {
          "output_type": "execute_result",
          "data": {
            "text/plain": [
              "True"
            ]
          },
          "metadata": {},
          "execution_count": 6
        }
      ],
      "source": [
        "nltk.download('popular')"
      ]
    },
    {
      "cell_type": "code",
      "execution_count": 7,
      "id": "b4bfe6fd-43ca-450f-92d2-8e1356d2cfd4",
      "metadata": {
        "colab": {
          "base_uri": "https://localhost:8080/"
        },
        "id": "b4bfe6fd-43ca-450f-92d2-8e1356d2cfd4",
        "outputId": "46b1edce-615e-490e-9afd-f2e73ae80d86"
      },
      "outputs": [
        {
          "output_type": "stream",
          "name": "stderr",
          "text": [
            "[nltk_data] Downloading package punkt_tab to /root/nltk_data...\n",
            "[nltk_data]   Unzipping tokenizers/punkt_tab.zip.\n"
          ]
        },
        {
          "output_type": "execute_result",
          "data": {
            "text/plain": [
              "True"
            ]
          },
          "metadata": {},
          "execution_count": 7
        }
      ],
      "source": [
        "nltk.download('punkt_tab')"
      ]
    },
    {
      "cell_type": "code",
      "execution_count": 8,
      "id": "131d38f4-7eb7-440c-be43-f16eb36151df",
      "metadata": {
        "id": "131d38f4-7eb7-440c-be43-f16eb36151df"
      },
      "outputs": [],
      "source": [
        "# import necessary corpuses\n",
        "from nltk.corpus import stopwords\n",
        "from nltk.corpus import wordnet\n"
      ]
    },
    {
      "cell_type": "code",
      "execution_count": 9,
      "id": "1ec598b5-9b9f-4174-9b69-4fd0a51bcdc5",
      "metadata": {
        "id": "1ec598b5-9b9f-4174-9b69-4fd0a51bcdc5"
      },
      "outputs": [],
      "source": [
        "## Data Cleaning steps"
      ]
    },
    {
      "cell_type": "code",
      "execution_count": 10,
      "id": "71f1daf5-86db-4a0c-8033-11e14d78b203",
      "metadata": {
        "colab": {
          "base_uri": "https://localhost:8080/"
        },
        "id": "71f1daf5-86db-4a0c-8033-11e14d78b203",
        "outputId": "aff9f2cd-4d62-40a3-f4f6-cef9acc60e3a"
      },
      "outputs": [
        {
          "output_type": "stream",
          "name": "stdout",
          "text": [
            "Embracing life's challenges is like navigating a journey. 🚀\n",
            "Stay motivated, overcome hurdles, and explore new paths to success!\n",
            "Check out inspiring stories at https://motivationalhub.com for an extra boost!\n"
          ]
        }
      ],
      "source": [
        "text = \"\"\"Embracing life's challenges is like navigating a journey. 🚀\n",
        "Stay motivated, overcome hurdles, and explore new paths to success!\n",
        "Check out inspiring stories at https://motivationalhub.com for an extra boost!\"\"\"\n",
        "print(text)"
      ]
    },
    {
      "cell_type": "code",
      "execution_count": 11,
      "id": "7930e885-2875-430b-9759-f1889e8b8010",
      "metadata": {
        "id": "7930e885-2875-430b-9759-f1889e8b8010"
      },
      "outputs": [],
      "source": [
        "## Tokenization\n",
        "### Sentence Tokenization\n",
        "sentences =  nltk.sent_tokenize(text)"
      ]
    },
    {
      "cell_type": "code",
      "execution_count": 12,
      "id": "4959c8f8-a2a7-4278-80b2-781170e1aca4",
      "metadata": {
        "colab": {
          "base_uri": "https://localhost:8080/"
        },
        "id": "4959c8f8-a2a7-4278-80b2-781170e1aca4",
        "outputId": "dccee441-e492-4fc0-ca01-ca3e39fa9fc9"
      },
      "outputs": [
        {
          "output_type": "stream",
          "name": "stdout",
          "text": [
            "0 : Embracing life's challenges is like navigating a journey.\n",
            "1 : 🚀\n",
            "Stay motivated, overcome hurdles, and explore new paths to success!\n",
            "2 : Check out inspiring stories at https://motivationalhub.com for an extra boost!\n"
          ]
        }
      ],
      "source": [
        "for i in range(len(sentences)):\n",
        "    print(f'{i} : {sentences[i]}')"
      ]
    },
    {
      "cell_type": "code",
      "execution_count": 13,
      "id": "8f6cfb69-761e-4d99-a166-784ef1e9001f",
      "metadata": {
        "colab": {
          "base_uri": "https://localhost:8080/"
        },
        "id": "8f6cfb69-761e-4d99-a166-784ef1e9001f",
        "outputId": "c03f039c-a0ee-4001-b964-3a682a7b853a"
      },
      "outputs": [
        {
          "output_type": "stream",
          "name": "stdout",
          "text": [
            "['Embracing', 'life', \"'s\", 'challenges', 'is', 'like', 'navigating', 'a', 'journey', '.', '🚀', 'Stay', 'motivated', ',', 'overcome', 'hurdles', ',', 'and', 'explore', 'new', 'paths', 'to', 'success', '!', 'Check', 'out', 'inspiring', 'stories', 'at', 'https', ':', '//motivationalhub.com', 'for', 'an', 'extra', 'boost', '!']\n"
          ]
        }
      ],
      "source": [
        "### word Tokenization\n",
        "word_tokens =  nltk.word_tokenize(text)\n",
        "print(word_tokens)"
      ]
    },
    {
      "cell_type": "code",
      "execution_count": 14,
      "id": "6e342209-685e-4755-bad9-a54596cf70aa",
      "metadata": {
        "colab": {
          "base_uri": "https://localhost:8080/"
        },
        "id": "6e342209-685e-4755-bad9-a54596cf70aa",
        "outputId": "6e71f9a8-69d6-4faf-8506-0ab8d211ff12"
      },
      "outputs": [
        {
          "output_type": "stream",
          "name": "stdout",
          "text": [
            "['Embracing', \"life's\", 'challenges', 'is', 'like', 'navigating', 'a', 'journey.', '🚀', 'Stay', 'motivated,', 'overcome', 'hurdles,', 'and', 'explore', 'new', 'paths', 'to', 'success!', 'Check', 'out', 'inspiring', 'stories', 'at', 'https://motivationalhub.com', 'for', 'an', 'extra', 'boost!']\n"
          ]
        }
      ],
      "source": [
        "word_tokens = text.split()\n",
        "print(word_tokens)"
      ]
    },
    {
      "cell_type": "code",
      "execution_count": 15,
      "id": "e3e28a35-1ddf-4a4b-893f-374406c7dab8",
      "metadata": {
        "colab": {
          "base_uri": "https://localhost:8080/"
        },
        "id": "e3e28a35-1ddf-4a4b-893f-374406c7dab8",
        "outputId": "2db2e8dc-2869-4115-cc3e-d2b7f9999835"
      },
      "outputs": [
        {
          "output_type": "stream",
          "name": "stdout",
          "text": [
            "['embracing', \"life's\", 'challenges', 'is', 'like', 'navigating', 'a', 'journey.', '🚀', 'stay', 'motivated,', 'overcome', 'hurdles,', 'and', 'explore', 'new', 'paths', 'to', 'success!', 'check', 'out', 'inspiring', 'stories', 'at', 'https://motivationalhub.com', 'for', 'an', 'extra', 'boost!']\n"
          ]
        }
      ],
      "source": [
        "## Change case and split\n",
        "\n",
        "words_lower_case =  text.lower().split()\n",
        "print(words_lower_case)"
      ]
    },
    {
      "cell_type": "code",
      "execution_count": 16,
      "id": "de2c5c6f-053b-4680-b9e7-26b26243bb64",
      "metadata": {
        "id": "de2c5c6f-053b-4680-b9e7-26b26243bb64"
      },
      "outputs": [],
      "source": [
        "# Spelling Correction\n",
        "\n",
        "## tkenize the text\n",
        "word_tokens =  text.lower().split()\n",
        "\n",
        "## get the list ofenglish words\n",
        "\n",
        "words =  nltk.corpus.words.words()\n",
        "\n"
      ]
    },
    {
      "cell_type": "code",
      "execution_count": 17,
      "id": "229fa929-efd8-4481-badd-862aee58ba63",
      "metadata": {
        "colab": {
          "base_uri": "https://localhost:8080/"
        },
        "id": "229fa929-efd8-4481-badd-862aee58ba63",
        "outputId": "45a8fa70-461e-4403-edd3-b46f89281d3f"
      },
      "outputs": [
        {
          "output_type": "stream",
          "name": "stdout",
          "text": [
            "Total number of words in the  vocab 236736\n"
          ]
        }
      ],
      "source": [
        "print(f'Total number of words in the  vocab {len(words)}')"
      ]
    },
    {
      "cell_type": "code",
      "execution_count": 18,
      "id": "a7446b47-5578-40f4-b5c0-97fe6571b1f9",
      "metadata": {
        "colab": {
          "base_uri": "https://localhost:8080/"
        },
        "id": "a7446b47-5578-40f4-b5c0-97fe6571b1f9",
        "outputId": "3e46afb6-1f14-4ec5-9241-50a68e206af9"
      },
      "outputs": [
        {
          "output_type": "stream",
          "name": "stdout",
          "text": [
            "['embracing', 'life', 'challenge', 'is', 'like', 'navigation', 'a', 'journey', 'A', 'stay', 'motivate', 'overcome', 'hurdies', 'and', 'explore', 'new', 'patas', 'to', 'success', 'check', 'out', 'inspiring', 'storied', 'at', 'motivational', 'for', 'an', 'extra', 'boost']\n"
          ]
        }
      ],
      "source": [
        "corrected_tokens = []\n",
        "for token in word_tokens:\n",
        "    corrected =  min(words, key = lambda x: nltk.edit_distance(x,token))\n",
        "    corrected_tokens.append(corrected)\n",
        "print(corrected_tokens)"
      ]
    },
    {
      "cell_type": "code",
      "execution_count": 22,
      "id": "6b050917-ceee-4c51-aaae-2c362093a514",
      "metadata": {
        "colab": {
          "base_uri": "https://localhost:8080/"
        },
        "id": "6b050917-ceee-4c51-aaae-2c362093a514",
        "outputId": "aa1219c7-aeb4-4674-9b23-294abe9cae4b"
      },
      "outputs": [
        {
          "output_type": "stream",
          "name": "stdout",
          "text": [
            "[('embracing', 'VBG'), (\"life's\", 'NN'), ('challenges', 'NNS'), ('is', 'VBZ'), ('like', 'IN'), ('navigating', 'VBG'), ('a', 'DT'), ('journey.', 'NN'), ('🚀', 'NNP'), ('stay', 'NN'), ('motivated,', 'RB'), ('overcome', 'JJ'), ('hurdles,', 'NN'), ('and', 'CC'), ('explore', 'VB'), ('new', 'JJ'), ('paths', 'NNS'), ('to', 'TO'), ('success!', 'VB'), ('check', 'VB'), ('out', 'RP'), ('inspiring', 'VBG'), ('stories', 'NNS'), ('at', 'IN'), ('https://motivationalhub.com', 'NN'), ('for', 'IN'), ('an', 'DT'), ('extra', 'JJ'), ('boost!', 'NN')]\n"
          ]
        }
      ],
      "source": [
        "## POS Tagging\n",
        "tagged =  nltk.pos_tag(word_tokens)\n",
        "print(tagged)"
      ]
    },
    {
      "cell_type": "code",
      "source": [
        " nltk.download('averaged_perceptron_tagger_eng')"
      ],
      "metadata": {
        "colab": {
          "base_uri": "https://localhost:8080/"
        },
        "id": "qQHVRSXEr40g",
        "outputId": "73fb4215-2660-4d2f-baa0-f81cfdc108dc"
      },
      "id": "qQHVRSXEr40g",
      "execution_count": 21,
      "outputs": [
        {
          "output_type": "stream",
          "name": "stderr",
          "text": [
            "[nltk_data] Downloading package averaged_perceptron_tagger_eng to\n",
            "[nltk_data]     /root/nltk_data...\n",
            "[nltk_data]   Unzipping taggers/averaged_perceptron_tagger_eng.zip.\n"
          ]
        },
        {
          "output_type": "execute_result",
          "data": {
            "text/plain": [
              "True"
            ]
          },
          "metadata": {},
          "execution_count": 21
        }
      ]
    },
    {
      "cell_type": "code",
      "source": [
        "example =''' Microsoft is a multinational technology company that was founded in 1975 by Bill Gates and Paul Allen.\n",
        "The company is headquartered in Redmond, Washington. Microsoft is one of the most valuable public companies in the United States. '''\n",
        "print(example)"
      ],
      "metadata": {
        "colab": {
          "base_uri": "https://localhost:8080/"
        },
        "id": "uZaT8DeitN0J",
        "outputId": "81441ad4-d0ea-4c4f-8a41-aa5f4831bac4"
      },
      "id": "uZaT8DeitN0J",
      "execution_count": 23,
      "outputs": [
        {
          "output_type": "stream",
          "name": "stdout",
          "text": [
            " Microsoft is a multinational technology company that was founded in 1975 by Bill Gates and Paul Allen. \n",
            "The company is headquartered in Redmond, Washington. Microsoft is one of the most valuable public companies in the United States. \n"
          ]
        }
      ]
    },
    {
      "cell_type": "code",
      "source": [
        "word_tokens =  nltk.word_tokenize(example)\n",
        "print(word_tokens)"
      ],
      "metadata": {
        "colab": {
          "base_uri": "https://localhost:8080/"
        },
        "id": "CL7xyZj7t0cG",
        "outputId": "06136bdb-d9a8-459a-ff9a-32560e38a88c"
      },
      "id": "CL7xyZj7t0cG",
      "execution_count": 24,
      "outputs": [
        {
          "output_type": "stream",
          "name": "stdout",
          "text": [
            "['Microsoft', 'is', 'a', 'multinational', 'technology', 'company', 'that', 'was', 'founded', 'in', '1975', 'by', 'Bill', 'Gates', 'and', 'Paul', 'Allen', '.', 'The', 'company', 'is', 'headquartered', 'in', 'Redmond', ',', 'Washington', '.', 'Microsoft', 'is', 'one', 'of', 'the', 'most', 'valuable', 'public', 'companies', 'in', 'the', 'United', 'States', '.']\n"
          ]
        }
      ]
    },
    {
      "cell_type": "code",
      "source": [
        "nltk.pos_tag(word_tokens)"
      ],
      "metadata": {
        "colab": {
          "base_uri": "https://localhost:8080/"
        },
        "id": "DyR3DC8fuAB8",
        "outputId": "93b4c3ba-42b5-4d91-b289-c415aba21c2a"
      },
      "id": "DyR3DC8fuAB8",
      "execution_count": 25,
      "outputs": [
        {
          "output_type": "execute_result",
          "data": {
            "text/plain": [
              "[('Microsoft', 'NNP'),\n",
              " ('is', 'VBZ'),\n",
              " ('a', 'DT'),\n",
              " ('multinational', 'JJ'),\n",
              " ('technology', 'NN'),\n",
              " ('company', 'NN'),\n",
              " ('that', 'WDT'),\n",
              " ('was', 'VBD'),\n",
              " ('founded', 'VBN'),\n",
              " ('in', 'IN'),\n",
              " ('1975', 'CD'),\n",
              " ('by', 'IN'),\n",
              " ('Bill', 'NNP'),\n",
              " ('Gates', 'NNP'),\n",
              " ('and', 'CC'),\n",
              " ('Paul', 'NNP'),\n",
              " ('Allen', 'NNP'),\n",
              " ('.', '.'),\n",
              " ('The', 'DT'),\n",
              " ('company', 'NN'),\n",
              " ('is', 'VBZ'),\n",
              " ('headquartered', 'VBN'),\n",
              " ('in', 'IN'),\n",
              " ('Redmond', 'NNP'),\n",
              " (',', ','),\n",
              " ('Washington', 'NNP'),\n",
              " ('.', '.'),\n",
              " ('Microsoft', 'NNP'),\n",
              " ('is', 'VBZ'),\n",
              " ('one', 'CD'),\n",
              " ('of', 'IN'),\n",
              " ('the', 'DT'),\n",
              " ('most', 'RBS'),\n",
              " ('valuable', 'JJ'),\n",
              " ('public', 'JJ'),\n",
              " ('companies', 'NNS'),\n",
              " ('in', 'IN'),\n",
              " ('the', 'DT'),\n",
              " ('United', 'NNP'),\n",
              " ('States', 'NNPS'),\n",
              " ('.', '.')]"
            ]
          },
          "metadata": {},
          "execution_count": 25
        }
      ]
    },
    {
      "cell_type": "code",
      "source": [
        "pip install svgling"
      ],
      "metadata": {
        "colab": {
          "base_uri": "https://localhost:8080/"
        },
        "id": "bNZTzOzWuXj5",
        "outputId": "ef88d429-1a7f-4731-bb7c-5a091d7d3ba1"
      },
      "id": "bNZTzOzWuXj5",
      "execution_count": 29,
      "outputs": [
        {
          "output_type": "stream",
          "name": "stdout",
          "text": [
            "Collecting svgling\n",
            "  Downloading svgling-0.5.0-py3-none-any.whl.metadata (7.4 kB)\n",
            "Collecting svgwrite (from svgling)\n",
            "  Downloading svgwrite-1.4.3-py3-none-any.whl.metadata (8.8 kB)\n",
            "Downloading svgling-0.5.0-py3-none-any.whl (31 kB)\n",
            "Downloading svgwrite-1.4.3-py3-none-any.whl (67 kB)\n",
            "\u001b[?25l   \u001b[90m━━━━━━━━━━━━━━━━━━━━━━━━━━━━━━━━━━━━━━━━\u001b[0m \u001b[32m0.0/67.1 kB\u001b[0m \u001b[31m?\u001b[0m eta \u001b[36m-:--:--\u001b[0m\r\u001b[2K   \u001b[90m━━━━━━━━━━━━━━━━━━━━━━━━━━━━━━━━━━━━━━━━\u001b[0m \u001b[32m67.1/67.1 kB\u001b[0m \u001b[31m5.3 MB/s\u001b[0m eta \u001b[36m0:00:00\u001b[0m\n",
            "\u001b[?25hInstalling collected packages: svgwrite, svgling\n",
            "Successfully installed svgling-0.5.0 svgwrite-1.4.3\n"
          ]
        }
      ]
    },
    {
      "cell_type": "code",
      "source": [
        "nltk.ne_chunk(nltk.pos_tag(word_tokens))"
      ],
      "metadata": {
        "colab": {
          "base_uri": "https://localhost:8080/",
          "height": 209
        },
        "id": "38vxJPqeuFtk",
        "outputId": "18324b9d-9375-44ac-8271-9b09ea9074f3"
      },
      "id": "38vxJPqeuFtk",
      "execution_count": 30,
      "outputs": [
        {
          "output_type": "execute_result",
          "data": {
            "text/plain": [
              "Tree('S', [Tree('GPE', [('Microsoft', 'NNP')]), ('is', 'VBZ'), ('a', 'DT'), ('multinational', 'JJ'), ('technology', 'NN'), ('company', 'NN'), ('that', 'WDT'), ('was', 'VBD'), ('founded', 'VBN'), ('in', 'IN'), ('1975', 'CD'), ('by', 'IN'), Tree('PERSON', [('Bill', 'NNP'), ('Gates', 'NNP')]), ('and', 'CC'), Tree('PERSON', [('Paul', 'NNP'), ('Allen', 'NNP')]), ('.', '.'), ('The', 'DT'), ('company', 'NN'), ('is', 'VBZ'), ('headquartered', 'VBN'), ('in', 'IN'), Tree('GPE', [('Redmond', 'NNP')]), (',', ','), Tree('GPE', [('Washington', 'NNP')]), ('.', '.'), Tree('PERSON', [('Microsoft', 'NNP')]), ('is', 'VBZ'), ('one', 'CD'), ('of', 'IN'), ('the', 'DT'), ('most', 'RBS'), ('valuable', 'JJ'), ('public', 'JJ'), ('companies', 'NNS'), ('in', 'IN'), ('the', 'DT'), Tree('GPE', [('United', 'NNP'), ('States', 'NNPS')]), ('.', '.')])"
            ],
            "image/svg+xml": "<svg baseProfile=\"full\" height=\"168px\" preserveAspectRatio=\"xMidYMid meet\" style=\"font-family: times, serif; font-weight: normal; font-style: normal; font-size: 16px\" version=\"1.1\" viewBox=\"0,0,2256.0,168.0\" width=\"2256px\" xmlns=\"http://www.w3.org/2000/svg\" xmlns:ev=\"http://www.w3.org/2001/xml-events\" xmlns:xlink=\"http://www.w3.org/1999/xlink\"><defs /><svg width=\"100%\" x=\"0\" y=\"0px\"><defs /><text text-anchor=\"middle\" x=\"50%\" y=\"16px\">S</text></svg><svg width=\"3.90071%\" x=\"0%\" y=\"48px\"><defs /><svg width=\"100%\" x=\"0\" y=\"0px\"><defs /><text text-anchor=\"middle\" x=\"50%\" y=\"16px\">GPE</text></svg><svg width=\"100%\" x=\"0%\" y=\"48px\"><defs /><svg width=\"100%\" x=\"0\" y=\"0px\"><defs /><text text-anchor=\"middle\" x=\"50%\" y=\"16px\">Microsoft</text></svg><svg width=\"100%\" x=\"0%\" y=\"48px\"><defs /><svg width=\"100%\" x=\"0\" y=\"0px\"><defs /><text text-anchor=\"middle\" x=\"50%\" y=\"16px\">NNP</text></svg></svg><line stroke=\"black\" x1=\"50%\" x2=\"50%\" y1=\"20px\" y2=\"48px\" /></svg><line stroke=\"black\" x1=\"50%\" x2=\"50%\" y1=\"20px\" y2=\"48px\" /></svg><line stroke=\"black\" x1=\"50%\" x2=\"1.95035%\" y1=\"20px\" y2=\"48px\" /><svg width=\"1.77305%\" x=\"3.90071%\" y=\"48px\"><defs /><svg width=\"100%\" x=\"0\" y=\"0px\"><defs /><text text-anchor=\"middle\" x=\"50%\" y=\"16px\">is</text></svg><svg width=\"100%\" x=\"0%\" y=\"48px\"><defs /><svg width=\"100%\" x=\"0\" y=\"0px\"><defs /><text text-anchor=\"middle\" x=\"50%\" y=\"16px\">VBZ</text></svg></svg><line stroke=\"black\" x1=\"50%\" x2=\"50%\" y1=\"20px\" y2=\"48px\" /></svg><line stroke=\"black\" x1=\"50%\" x2=\"4.78723%\" y1=\"20px\" y2=\"48px\" /><svg width=\"1.41844%\" x=\"5.67376%\" y=\"48px\"><defs /><svg width=\"100%\" x=\"0\" y=\"0px\"><defs /><text text-anchor=\"middle\" x=\"50%\" y=\"16px\">a</text></svg><svg width=\"100%\" x=\"0%\" y=\"48px\"><defs /><svg width=\"100%\" x=\"0\" y=\"0px\"><defs /><text text-anchor=\"middle\" x=\"50%\" y=\"16px\">DT</text></svg></svg><line stroke=\"black\" x1=\"50%\" x2=\"50%\" y1=\"20px\" y2=\"48px\" /></svg><line stroke=\"black\" x1=\"50%\" x2=\"6.38298%\" y1=\"20px\" y2=\"48px\" /><svg width=\"5.31915%\" x=\"7.0922%\" y=\"48px\"><defs /><svg width=\"100%\" x=\"0\" y=\"0px\"><defs /><text text-anchor=\"middle\" x=\"50%\" y=\"16px\">multinational</text></svg><svg width=\"100%\" x=\"0%\" y=\"48px\"><defs /><svg width=\"100%\" x=\"0\" y=\"0px\"><defs /><text text-anchor=\"middle\" x=\"50%\" y=\"16px\">JJ</text></svg></svg><line stroke=\"black\" x1=\"50%\" x2=\"50%\" y1=\"20px\" y2=\"48px\" /></svg><line stroke=\"black\" x1=\"50%\" x2=\"9.75177%\" y1=\"20px\" y2=\"48px\" /><svg width=\"4.25532%\" x=\"12.4113%\" y=\"48px\"><defs /><svg width=\"100%\" x=\"0\" y=\"0px\"><defs /><text text-anchor=\"middle\" x=\"50%\" y=\"16px\">technology</text></svg><svg width=\"100%\" x=\"0%\" y=\"48px\"><defs /><svg width=\"100%\" x=\"0\" y=\"0px\"><defs /><text text-anchor=\"middle\" x=\"50%\" y=\"16px\">NN</text></svg></svg><line stroke=\"black\" x1=\"50%\" x2=\"50%\" y1=\"20px\" y2=\"48px\" /></svg><line stroke=\"black\" x1=\"50%\" x2=\"14.539%\" y1=\"20px\" y2=\"48px\" /><svg width=\"3.19149%\" x=\"16.6667%\" y=\"48px\"><defs /><svg width=\"100%\" x=\"0\" y=\"0px\"><defs /><text text-anchor=\"middle\" x=\"50%\" y=\"16px\">company</text></svg><svg width=\"100%\" x=\"0%\" y=\"48px\"><defs /><svg width=\"100%\" x=\"0\" y=\"0px\"><defs /><text text-anchor=\"middle\" x=\"50%\" y=\"16px\">NN</text></svg></svg><line stroke=\"black\" x1=\"50%\" x2=\"50%\" y1=\"20px\" y2=\"48px\" /></svg><line stroke=\"black\" x1=\"50%\" x2=\"18.2624%\" y1=\"20px\" y2=\"48px\" /><svg width=\"2.12766%\" x=\"19.8582%\" y=\"48px\"><defs /><svg width=\"100%\" x=\"0\" y=\"0px\"><defs /><text text-anchor=\"middle\" x=\"50%\" y=\"16px\">that</text></svg><svg width=\"100%\" x=\"0%\" y=\"48px\"><defs /><svg width=\"100%\" x=\"0\" y=\"0px\"><defs /><text text-anchor=\"middle\" x=\"50%\" y=\"16px\">WDT</text></svg></svg><line stroke=\"black\" x1=\"50%\" x2=\"50%\" y1=\"20px\" y2=\"48px\" /></svg><line stroke=\"black\" x1=\"50%\" x2=\"20.922%\" y1=\"20px\" y2=\"48px\" /><svg width=\"1.77305%\" x=\"21.9858%\" y=\"48px\"><defs /><svg width=\"100%\" x=\"0\" y=\"0px\"><defs /><text text-anchor=\"middle\" x=\"50%\" y=\"16px\">was</text></svg><svg width=\"100%\" x=\"0%\" y=\"48px\"><defs /><svg width=\"100%\" x=\"0\" y=\"0px\"><defs /><text text-anchor=\"middle\" x=\"50%\" y=\"16px\">VBD</text></svg></svg><line stroke=\"black\" x1=\"50%\" x2=\"50%\" y1=\"20px\" y2=\"48px\" /></svg><line stroke=\"black\" x1=\"50%\" x2=\"22.8723%\" y1=\"20px\" y2=\"48px\" /><svg width=\"3.19149%\" x=\"23.7589%\" y=\"48px\"><defs /><svg width=\"100%\" x=\"0\" y=\"0px\"><defs /><text text-anchor=\"middle\" x=\"50%\" y=\"16px\">founded</text></svg><svg width=\"100%\" x=\"0%\" y=\"48px\"><defs /><svg width=\"100%\" x=\"0\" y=\"0px\"><defs /><text text-anchor=\"middle\" x=\"50%\" y=\"16px\">VBN</text></svg></svg><line stroke=\"black\" x1=\"50%\" x2=\"50%\" y1=\"20px\" y2=\"48px\" /></svg><line stroke=\"black\" x1=\"50%\" x2=\"25.3546%\" y1=\"20px\" y2=\"48px\" /><svg width=\"1.41844%\" x=\"26.9504%\" y=\"48px\"><defs /><svg width=\"100%\" x=\"0\" y=\"0px\"><defs /><text text-anchor=\"middle\" x=\"50%\" y=\"16px\">in</text></svg><svg width=\"100%\" x=\"0%\" y=\"48px\"><defs /><svg width=\"100%\" x=\"0\" y=\"0px\"><defs /><text text-anchor=\"middle\" x=\"50%\" y=\"16px\">IN</text></svg></svg><line stroke=\"black\" x1=\"50%\" x2=\"50%\" y1=\"20px\" y2=\"48px\" /></svg><line stroke=\"black\" x1=\"50%\" x2=\"27.6596%\" y1=\"20px\" y2=\"48px\" /><svg width=\"2.12766%\" x=\"28.3688%\" y=\"48px\"><defs /><svg width=\"100%\" x=\"0\" y=\"0px\"><defs /><text text-anchor=\"middle\" x=\"50%\" y=\"16px\">1975</text></svg><svg width=\"100%\" x=\"0%\" y=\"48px\"><defs /><svg width=\"100%\" x=\"0\" y=\"0px\"><defs /><text text-anchor=\"middle\" x=\"50%\" y=\"16px\">CD</text></svg></svg><line stroke=\"black\" x1=\"50%\" x2=\"50%\" y1=\"20px\" y2=\"48px\" /></svg><line stroke=\"black\" x1=\"50%\" x2=\"29.4326%\" y1=\"20px\" y2=\"48px\" /><svg width=\"1.41844%\" x=\"30.4965%\" y=\"48px\"><defs /><svg width=\"100%\" x=\"0\" y=\"0px\"><defs /><text text-anchor=\"middle\" x=\"50%\" y=\"16px\">by</text></svg><svg width=\"100%\" x=\"0%\" y=\"48px\"><defs /><svg width=\"100%\" x=\"0\" y=\"0px\"><defs /><text text-anchor=\"middle\" x=\"50%\" y=\"16px\">IN</text></svg></svg><line stroke=\"black\" x1=\"50%\" x2=\"50%\" y1=\"20px\" y2=\"48px\" /></svg><line stroke=\"black\" x1=\"50%\" x2=\"31.2057%\" y1=\"20px\" y2=\"48px\" /><svg width=\"4.60993%\" x=\"31.9149%\" y=\"48px\"><defs /><svg width=\"100%\" x=\"0\" y=\"0px\"><defs /><text text-anchor=\"middle\" x=\"50%\" y=\"16px\">PERSON</text></svg><svg width=\"46.1538%\" x=\"0%\" y=\"48px\"><defs /><svg width=\"100%\" x=\"0\" y=\"0px\"><defs /><text text-anchor=\"middle\" x=\"50%\" y=\"16px\">Bill</text></svg><svg width=\"100%\" x=\"0%\" y=\"48px\"><defs /><svg width=\"100%\" x=\"0\" y=\"0px\"><defs /><text text-anchor=\"middle\" x=\"50%\" y=\"16px\">NNP</text></svg></svg><line stroke=\"black\" x1=\"50%\" x2=\"50%\" y1=\"20px\" y2=\"48px\" /></svg><line stroke=\"black\" x1=\"50%\" x2=\"23.0769%\" y1=\"20px\" y2=\"48px\" /><svg width=\"53.8462%\" x=\"46.1538%\" y=\"48px\"><defs /><svg width=\"100%\" x=\"0\" y=\"0px\"><defs /><text text-anchor=\"middle\" x=\"50%\" y=\"16px\">Gates</text></svg><svg width=\"100%\" x=\"0%\" y=\"48px\"><defs /><svg width=\"100%\" x=\"0\" y=\"0px\"><defs /><text text-anchor=\"middle\" x=\"50%\" y=\"16px\">NNP</text></svg></svg><line stroke=\"black\" x1=\"50%\" x2=\"50%\" y1=\"20px\" y2=\"48px\" /></svg><line stroke=\"black\" x1=\"50%\" x2=\"73.0769%\" y1=\"20px\" y2=\"48px\" /></svg><line stroke=\"black\" x1=\"50%\" x2=\"34.2199%\" y1=\"20px\" y2=\"48px\" /><svg width=\"1.77305%\" x=\"36.5248%\" y=\"48px\"><defs /><svg width=\"100%\" x=\"0\" y=\"0px\"><defs /><text text-anchor=\"middle\" x=\"50%\" y=\"16px\">and</text></svg><svg width=\"100%\" x=\"0%\" y=\"48px\"><defs /><svg width=\"100%\" x=\"0\" y=\"0px\"><defs /><text text-anchor=\"middle\" x=\"50%\" y=\"16px\">CC</text></svg></svg><line stroke=\"black\" x1=\"50%\" x2=\"50%\" y1=\"20px\" y2=\"48px\" /></svg><line stroke=\"black\" x1=\"50%\" x2=\"37.4113%\" y1=\"20px\" y2=\"48px\" /><svg width=\"4.60993%\" x=\"38.2979%\" y=\"48px\"><defs /><svg width=\"100%\" x=\"0\" y=\"0px\"><defs /><text text-anchor=\"middle\" x=\"50%\" y=\"16px\">PERSON</text></svg><svg width=\"46.1538%\" x=\"0%\" y=\"48px\"><defs /><svg width=\"100%\" x=\"0\" y=\"0px\"><defs /><text text-anchor=\"middle\" x=\"50%\" y=\"16px\">Paul</text></svg><svg width=\"100%\" x=\"0%\" y=\"48px\"><defs /><svg width=\"100%\" x=\"0\" y=\"0px\"><defs /><text text-anchor=\"middle\" x=\"50%\" y=\"16px\">NNP</text></svg></svg><line stroke=\"black\" x1=\"50%\" x2=\"50%\" y1=\"20px\" y2=\"48px\" /></svg><line stroke=\"black\" x1=\"50%\" x2=\"23.0769%\" y1=\"20px\" y2=\"48px\" /><svg width=\"53.8462%\" x=\"46.1538%\" y=\"48px\"><defs /><svg width=\"100%\" x=\"0\" y=\"0px\"><defs /><text text-anchor=\"middle\" x=\"50%\" y=\"16px\">Allen</text></svg><svg width=\"100%\" x=\"0%\" y=\"48px\"><defs /><svg width=\"100%\" x=\"0\" y=\"0px\"><defs /><text text-anchor=\"middle\" x=\"50%\" y=\"16px\">NNP</text></svg></svg><line stroke=\"black\" x1=\"50%\" x2=\"50%\" y1=\"20px\" y2=\"48px\" /></svg><line stroke=\"black\" x1=\"50%\" x2=\"73.0769%\" y1=\"20px\" y2=\"48px\" /></svg><line stroke=\"black\" x1=\"50%\" x2=\"40.6028%\" y1=\"20px\" y2=\"48px\" /><svg width=\"1.06383%\" x=\"42.9078%\" y=\"48px\"><defs /><svg width=\"100%\" x=\"0\" y=\"0px\"><defs /><text text-anchor=\"middle\" x=\"50%\" y=\"16px\">.</text></svg><svg width=\"100%\" x=\"0%\" y=\"48px\"><defs /><svg width=\"100%\" x=\"0\" y=\"0px\"><defs /><text text-anchor=\"middle\" x=\"50%\" y=\"16px\">.</text></svg></svg><line stroke=\"black\" x1=\"50%\" x2=\"50%\" y1=\"20px\" y2=\"48px\" /></svg><line stroke=\"black\" x1=\"50%\" x2=\"43.4397%\" y1=\"20px\" y2=\"48px\" /><svg width=\"1.77305%\" x=\"43.9716%\" y=\"48px\"><defs /><svg width=\"100%\" x=\"0\" y=\"0px\"><defs /><text text-anchor=\"middle\" x=\"50%\" y=\"16px\">The</text></svg><svg width=\"100%\" x=\"0%\" y=\"48px\"><defs /><svg width=\"100%\" x=\"0\" y=\"0px\"><defs /><text text-anchor=\"middle\" x=\"50%\" y=\"16px\">DT</text></svg></svg><line stroke=\"black\" x1=\"50%\" x2=\"50%\" y1=\"20px\" y2=\"48px\" /></svg><line stroke=\"black\" x1=\"50%\" x2=\"44.8582%\" y1=\"20px\" y2=\"48px\" /><svg width=\"3.19149%\" x=\"45.7447%\" y=\"48px\"><defs /><svg width=\"100%\" x=\"0\" y=\"0px\"><defs /><text text-anchor=\"middle\" x=\"50%\" y=\"16px\">company</text></svg><svg width=\"100%\" x=\"0%\" y=\"48px\"><defs /><svg width=\"100%\" x=\"0\" y=\"0px\"><defs /><text text-anchor=\"middle\" x=\"50%\" y=\"16px\">NN</text></svg></svg><line stroke=\"black\" x1=\"50%\" x2=\"50%\" y1=\"20px\" y2=\"48px\" /></svg><line stroke=\"black\" x1=\"50%\" x2=\"47.3404%\" y1=\"20px\" y2=\"48px\" /><svg width=\"1.77305%\" x=\"48.9362%\" y=\"48px\"><defs /><svg width=\"100%\" x=\"0\" y=\"0px\"><defs /><text text-anchor=\"middle\" x=\"50%\" y=\"16px\">is</text></svg><svg width=\"100%\" x=\"0%\" y=\"48px\"><defs /><svg width=\"100%\" x=\"0\" y=\"0px\"><defs /><text text-anchor=\"middle\" x=\"50%\" y=\"16px\">VBZ</text></svg></svg><line stroke=\"black\" x1=\"50%\" x2=\"50%\" y1=\"20px\" y2=\"48px\" /></svg><line stroke=\"black\" x1=\"50%\" x2=\"49.8227%\" y1=\"20px\" y2=\"48px\" /><svg width=\"5.31915%\" x=\"50.7092%\" y=\"48px\"><defs /><svg width=\"100%\" x=\"0\" y=\"0px\"><defs /><text text-anchor=\"middle\" x=\"50%\" y=\"16px\">headquartered</text></svg><svg width=\"100%\" x=\"0%\" y=\"48px\"><defs /><svg width=\"100%\" x=\"0\" y=\"0px\"><defs /><text text-anchor=\"middle\" x=\"50%\" y=\"16px\">VBN</text></svg></svg><line stroke=\"black\" x1=\"50%\" x2=\"50%\" y1=\"20px\" y2=\"48px\" /></svg><line stroke=\"black\" x1=\"50%\" x2=\"53.3688%\" y1=\"20px\" y2=\"48px\" /><svg width=\"1.41844%\" x=\"56.0284%\" y=\"48px\"><defs /><svg width=\"100%\" x=\"0\" y=\"0px\"><defs /><text text-anchor=\"middle\" x=\"50%\" y=\"16px\">in</text></svg><svg width=\"100%\" x=\"0%\" y=\"48px\"><defs /><svg width=\"100%\" x=\"0\" y=\"0px\"><defs /><text text-anchor=\"middle\" x=\"50%\" y=\"16px\">IN</text></svg></svg><line stroke=\"black\" x1=\"50%\" x2=\"50%\" y1=\"20px\" y2=\"48px\" /></svg><line stroke=\"black\" x1=\"50%\" x2=\"56.7376%\" y1=\"20px\" y2=\"48px\" /><svg width=\"3.19149%\" x=\"57.4468%\" y=\"48px\"><defs /><svg width=\"100%\" x=\"0\" y=\"0px\"><defs /><text text-anchor=\"middle\" x=\"50%\" y=\"16px\">GPE</text></svg><svg width=\"100%\" x=\"0%\" y=\"48px\"><defs /><svg width=\"100%\" x=\"0\" y=\"0px\"><defs /><text text-anchor=\"middle\" x=\"50%\" y=\"16px\">Redmond</text></svg><svg width=\"100%\" x=\"0%\" y=\"48px\"><defs /><svg width=\"100%\" x=\"0\" y=\"0px\"><defs /><text text-anchor=\"middle\" x=\"50%\" y=\"16px\">NNP</text></svg></svg><line stroke=\"black\" x1=\"50%\" x2=\"50%\" y1=\"20px\" y2=\"48px\" /></svg><line stroke=\"black\" x1=\"50%\" x2=\"50%\" y1=\"20px\" y2=\"48px\" /></svg><line stroke=\"black\" x1=\"50%\" x2=\"59.0426%\" y1=\"20px\" y2=\"48px\" /><svg width=\"1.06383%\" x=\"60.6383%\" y=\"48px\"><defs /><svg width=\"100%\" x=\"0\" y=\"0px\"><defs /><text text-anchor=\"middle\" x=\"50%\" y=\"16px\">,</text></svg><svg width=\"100%\" x=\"0%\" y=\"48px\"><defs /><svg width=\"100%\" x=\"0\" y=\"0px\"><defs /><text text-anchor=\"middle\" x=\"50%\" y=\"16px\">,</text></svg></svg><line stroke=\"black\" x1=\"50%\" x2=\"50%\" y1=\"20px\" y2=\"48px\" /></svg><line stroke=\"black\" x1=\"50%\" x2=\"61.1702%\" y1=\"20px\" y2=\"48px\" /><svg width=\"4.25532%\" x=\"61.7021%\" y=\"48px\"><defs /><svg width=\"100%\" x=\"0\" y=\"0px\"><defs /><text text-anchor=\"middle\" x=\"50%\" y=\"16px\">GPE</text></svg><svg width=\"100%\" x=\"0%\" y=\"48px\"><defs /><svg width=\"100%\" x=\"0\" y=\"0px\"><defs /><text text-anchor=\"middle\" x=\"50%\" y=\"16px\">Washington</text></svg><svg width=\"100%\" x=\"0%\" y=\"48px\"><defs /><svg width=\"100%\" x=\"0\" y=\"0px\"><defs /><text text-anchor=\"middle\" x=\"50%\" y=\"16px\">NNP</text></svg></svg><line stroke=\"black\" x1=\"50%\" x2=\"50%\" y1=\"20px\" y2=\"48px\" /></svg><line stroke=\"black\" x1=\"50%\" x2=\"50%\" y1=\"20px\" y2=\"48px\" /></svg><line stroke=\"black\" x1=\"50%\" x2=\"63.8298%\" y1=\"20px\" y2=\"48px\" /><svg width=\"1.06383%\" x=\"65.9574%\" y=\"48px\"><defs /><svg width=\"100%\" x=\"0\" y=\"0px\"><defs /><text text-anchor=\"middle\" x=\"50%\" y=\"16px\">.</text></svg><svg width=\"100%\" x=\"0%\" y=\"48px\"><defs /><svg width=\"100%\" x=\"0\" y=\"0px\"><defs /><text text-anchor=\"middle\" x=\"50%\" y=\"16px\">.</text></svg></svg><line stroke=\"black\" x1=\"50%\" x2=\"50%\" y1=\"20px\" y2=\"48px\" /></svg><line stroke=\"black\" x1=\"50%\" x2=\"66.4894%\" y1=\"20px\" y2=\"48px\" /><svg width=\"3.90071%\" x=\"67.0213%\" y=\"48px\"><defs /><svg width=\"100%\" x=\"0\" y=\"0px\"><defs /><text text-anchor=\"middle\" x=\"50%\" y=\"16px\">PERSON</text></svg><svg width=\"100%\" x=\"0%\" y=\"48px\"><defs /><svg width=\"100%\" x=\"0\" y=\"0px\"><defs /><text text-anchor=\"middle\" x=\"50%\" y=\"16px\">Microsoft</text></svg><svg width=\"100%\" x=\"0%\" y=\"48px\"><defs /><svg width=\"100%\" x=\"0\" y=\"0px\"><defs /><text text-anchor=\"middle\" x=\"50%\" y=\"16px\">NNP</text></svg></svg><line stroke=\"black\" x1=\"50%\" x2=\"50%\" y1=\"20px\" y2=\"48px\" /></svg><line stroke=\"black\" x1=\"50%\" x2=\"50%\" y1=\"20px\" y2=\"48px\" /></svg><line stroke=\"black\" x1=\"50%\" x2=\"68.9716%\" y1=\"20px\" y2=\"48px\" /><svg width=\"1.77305%\" x=\"70.922%\" y=\"48px\"><defs /><svg width=\"100%\" x=\"0\" y=\"0px\"><defs /><text text-anchor=\"middle\" x=\"50%\" y=\"16px\">is</text></svg><svg width=\"100%\" x=\"0%\" y=\"48px\"><defs /><svg width=\"100%\" x=\"0\" y=\"0px\"><defs /><text text-anchor=\"middle\" x=\"50%\" y=\"16px\">VBZ</text></svg></svg><line stroke=\"black\" x1=\"50%\" x2=\"50%\" y1=\"20px\" y2=\"48px\" /></svg><line stroke=\"black\" x1=\"50%\" x2=\"71.8085%\" y1=\"20px\" y2=\"48px\" /><svg width=\"1.77305%\" x=\"72.695%\" y=\"48px\"><defs /><svg width=\"100%\" x=\"0\" y=\"0px\"><defs /><text text-anchor=\"middle\" x=\"50%\" y=\"16px\">one</text></svg><svg width=\"100%\" x=\"0%\" y=\"48px\"><defs /><svg width=\"100%\" x=\"0\" y=\"0px\"><defs /><text text-anchor=\"middle\" x=\"50%\" y=\"16px\">CD</text></svg></svg><line stroke=\"black\" x1=\"50%\" x2=\"50%\" y1=\"20px\" y2=\"48px\" /></svg><line stroke=\"black\" x1=\"50%\" x2=\"73.5816%\" y1=\"20px\" y2=\"48px\" /><svg width=\"1.41844%\" x=\"74.4681%\" y=\"48px\"><defs /><svg width=\"100%\" x=\"0\" y=\"0px\"><defs /><text text-anchor=\"middle\" x=\"50%\" y=\"16px\">of</text></svg><svg width=\"100%\" x=\"0%\" y=\"48px\"><defs /><svg width=\"100%\" x=\"0\" y=\"0px\"><defs /><text text-anchor=\"middle\" x=\"50%\" y=\"16px\">IN</text></svg></svg><line stroke=\"black\" x1=\"50%\" x2=\"50%\" y1=\"20px\" y2=\"48px\" /></svg><line stroke=\"black\" x1=\"50%\" x2=\"75.1773%\" y1=\"20px\" y2=\"48px\" /><svg width=\"1.77305%\" x=\"75.8865%\" y=\"48px\"><defs /><svg width=\"100%\" x=\"0\" y=\"0px\"><defs /><text text-anchor=\"middle\" x=\"50%\" y=\"16px\">the</text></svg><svg width=\"100%\" x=\"0%\" y=\"48px\"><defs /><svg width=\"100%\" x=\"0\" y=\"0px\"><defs /><text text-anchor=\"middle\" x=\"50%\" y=\"16px\">DT</text></svg></svg><line stroke=\"black\" x1=\"50%\" x2=\"50%\" y1=\"20px\" y2=\"48px\" /></svg><line stroke=\"black\" x1=\"50%\" x2=\"76.773%\" y1=\"20px\" y2=\"48px\" /><svg width=\"2.12766%\" x=\"77.6596%\" y=\"48px\"><defs /><svg width=\"100%\" x=\"0\" y=\"0px\"><defs /><text text-anchor=\"middle\" x=\"50%\" y=\"16px\">most</text></svg><svg width=\"100%\" x=\"0%\" y=\"48px\"><defs /><svg width=\"100%\" x=\"0\" y=\"0px\"><defs /><text text-anchor=\"middle\" x=\"50%\" y=\"16px\">RBS</text></svg></svg><line stroke=\"black\" x1=\"50%\" x2=\"50%\" y1=\"20px\" y2=\"48px\" /></svg><line stroke=\"black\" x1=\"50%\" x2=\"78.7234%\" y1=\"20px\" y2=\"48px\" /><svg width=\"3.5461%\" x=\"79.7872%\" y=\"48px\"><defs /><svg width=\"100%\" x=\"0\" y=\"0px\"><defs /><text text-anchor=\"middle\" x=\"50%\" y=\"16px\">valuable</text></svg><svg width=\"100%\" x=\"0%\" y=\"48px\"><defs /><svg width=\"100%\" x=\"0\" y=\"0px\"><defs /><text text-anchor=\"middle\" x=\"50%\" y=\"16px\">JJ</text></svg></svg><line stroke=\"black\" x1=\"50%\" x2=\"50%\" y1=\"20px\" y2=\"48px\" /></svg><line stroke=\"black\" x1=\"50%\" x2=\"81.5603%\" y1=\"20px\" y2=\"48px\" /><svg width=\"2.83688%\" x=\"83.3333%\" y=\"48px\"><defs /><svg width=\"100%\" x=\"0\" y=\"0px\"><defs /><text text-anchor=\"middle\" x=\"50%\" y=\"16px\">public</text></svg><svg width=\"100%\" x=\"0%\" y=\"48px\"><defs /><svg width=\"100%\" x=\"0\" y=\"0px\"><defs /><text text-anchor=\"middle\" x=\"50%\" y=\"16px\">JJ</text></svg></svg><line stroke=\"black\" x1=\"50%\" x2=\"50%\" y1=\"20px\" y2=\"48px\" /></svg><line stroke=\"black\" x1=\"50%\" x2=\"84.7518%\" y1=\"20px\" y2=\"48px\" /><svg width=\"3.90071%\" x=\"86.1702%\" y=\"48px\"><defs /><svg width=\"100%\" x=\"0\" y=\"0px\"><defs /><text text-anchor=\"middle\" x=\"50%\" y=\"16px\">companies</text></svg><svg width=\"100%\" x=\"0%\" y=\"48px\"><defs /><svg width=\"100%\" x=\"0\" y=\"0px\"><defs /><text text-anchor=\"middle\" x=\"50%\" y=\"16px\">NNS</text></svg></svg><line stroke=\"black\" x1=\"50%\" x2=\"50%\" y1=\"20px\" y2=\"48px\" /></svg><line stroke=\"black\" x1=\"50%\" x2=\"88.1206%\" y1=\"20px\" y2=\"48px\" /><svg width=\"1.41844%\" x=\"90.0709%\" y=\"48px\"><defs /><svg width=\"100%\" x=\"0\" y=\"0px\"><defs /><text text-anchor=\"middle\" x=\"50%\" y=\"16px\">in</text></svg><svg width=\"100%\" x=\"0%\" y=\"48px\"><defs /><svg width=\"100%\" x=\"0\" y=\"0px\"><defs /><text text-anchor=\"middle\" x=\"50%\" y=\"16px\">IN</text></svg></svg><line stroke=\"black\" x1=\"50%\" x2=\"50%\" y1=\"20px\" y2=\"48px\" /></svg><line stroke=\"black\" x1=\"50%\" x2=\"90.7801%\" y1=\"20px\" y2=\"48px\" /><svg width=\"1.77305%\" x=\"91.4894%\" y=\"48px\"><defs /><svg width=\"100%\" x=\"0\" y=\"0px\"><defs /><text text-anchor=\"middle\" x=\"50%\" y=\"16px\">the</text></svg><svg width=\"100%\" x=\"0%\" y=\"48px\"><defs /><svg width=\"100%\" x=\"0\" y=\"0px\"><defs /><text text-anchor=\"middle\" x=\"50%\" y=\"16px\">DT</text></svg></svg><line stroke=\"black\" x1=\"50%\" x2=\"50%\" y1=\"20px\" y2=\"48px\" /></svg><line stroke=\"black\" x1=\"50%\" x2=\"92.3759%\" y1=\"20px\" y2=\"48px\" /><svg width=\"5.67376%\" x=\"93.2624%\" y=\"48px\"><defs /><svg width=\"100%\" x=\"0\" y=\"0px\"><defs /><text text-anchor=\"middle\" x=\"50%\" y=\"16px\">GPE</text></svg><svg width=\"50%\" x=\"0%\" y=\"48px\"><defs /><svg width=\"100%\" x=\"0\" y=\"0px\"><defs /><text text-anchor=\"middle\" x=\"50%\" y=\"16px\">United</text></svg><svg width=\"100%\" x=\"0%\" y=\"48px\"><defs /><svg width=\"100%\" x=\"0\" y=\"0px\"><defs /><text text-anchor=\"middle\" x=\"50%\" y=\"16px\">NNP</text></svg></svg><line stroke=\"black\" x1=\"50%\" x2=\"50%\" y1=\"20px\" y2=\"48px\" /></svg><line stroke=\"black\" x1=\"50%\" x2=\"25%\" y1=\"20px\" y2=\"48px\" /><svg width=\"50%\" x=\"50%\" y=\"48px\"><defs /><svg width=\"100%\" x=\"0\" y=\"0px\"><defs /><text text-anchor=\"middle\" x=\"50%\" y=\"16px\">States</text></svg><svg width=\"100%\" x=\"0%\" y=\"48px\"><defs /><svg width=\"100%\" x=\"0\" y=\"0px\"><defs /><text text-anchor=\"middle\" x=\"50%\" y=\"16px\">NNPS</text></svg></svg><line stroke=\"black\" x1=\"50%\" x2=\"50%\" y1=\"20px\" y2=\"48px\" /></svg><line stroke=\"black\" x1=\"50%\" x2=\"75%\" y1=\"20px\" y2=\"48px\" /></svg><line stroke=\"black\" x1=\"50%\" x2=\"96.0993%\" y1=\"20px\" y2=\"48px\" /><svg width=\"1.06383%\" x=\"98.9362%\" y=\"48px\"><defs /><svg width=\"100%\" x=\"0\" y=\"0px\"><defs /><text text-anchor=\"middle\" x=\"50%\" y=\"16px\">.</text></svg><svg width=\"100%\" x=\"0%\" y=\"48px\"><defs /><svg width=\"100%\" x=\"0\" y=\"0px\"><defs /><text text-anchor=\"middle\" x=\"50%\" y=\"16px\">.</text></svg></svg><line stroke=\"black\" x1=\"50%\" x2=\"50%\" y1=\"20px\" y2=\"48px\" /></svg><line stroke=\"black\" x1=\"50%\" x2=\"99.4681%\" y1=\"20px\" y2=\"48px\" /></svg>"
          },
          "metadata": {},
          "execution_count": 30
        }
      ]
    },
    {
      "cell_type": "markdown",
      "source": [],
      "metadata": {
        "id": "7Bf1e6ywuh42"
      },
      "id": "7Bf1e6ywuh42"
    },
    {
      "cell_type": "code",
      "source": [
        "nltk.download('maxent_ne_chunker_tab')"
      ],
      "metadata": {
        "colab": {
          "base_uri": "https://localhost:8080/"
        },
        "id": "gfsve2_CuNYQ",
        "outputId": "86d4952c-af4f-443f-fdd5-8faea8f6c482"
      },
      "id": "gfsve2_CuNYQ",
      "execution_count": 27,
      "outputs": [
        {
          "output_type": "stream",
          "name": "stderr",
          "text": [
            "[nltk_data] Downloading package maxent_ne_chunker_tab to\n",
            "[nltk_data]     /root/nltk_data...\n",
            "[nltk_data]   Unzipping chunkers/maxent_ne_chunker_tab.zip.\n"
          ]
        },
        {
          "output_type": "execute_result",
          "data": {
            "text/plain": [
              "True"
            ]
          },
          "metadata": {},
          "execution_count": 27
        }
      ]
    },
    {
      "cell_type": "code",
      "source": [
        "# NER through SPACY\n",
        "nlp =  spacy.load('en_core_web_sm')"
      ],
      "metadata": {
        "id": "VSyFbZqzuSjy"
      },
      "id": "VSyFbZqzuSjy",
      "execution_count": 31,
      "outputs": []
    },
    {
      "cell_type": "code",
      "source": [
        "doc =  nlp(example)"
      ],
      "metadata": {
        "id": "OocZEJlvu3pT"
      },
      "id": "OocZEJlvu3pT",
      "execution_count": 32,
      "outputs": []
    },
    {
      "cell_type": "code",
      "source": [
        "type(doc)"
      ],
      "metadata": {
        "colab": {
          "base_uri": "https://localhost:8080/"
        },
        "id": "491SqXHku9oL",
        "outputId": "882731e7-5dbd-4da8-e39d-6eda21b19382"
      },
      "id": "491SqXHku9oL",
      "execution_count": 34,
      "outputs": [
        {
          "output_type": "execute_result",
          "data": {
            "text/plain": [
              "spacy.tokens.doc.Doc"
            ]
          },
          "metadata": {},
          "execution_count": 34
        }
      ]
    },
    {
      "cell_type": "code",
      "source": [
        "entities  = [(ent.text, ent.label_) for ent in doc.ents]"
      ],
      "metadata": {
        "id": "Hi7nYatLu_hM"
      },
      "id": "Hi7nYatLu_hM",
      "execution_count": 36,
      "outputs": []
    },
    {
      "cell_type": "code",
      "source": [
        "entities"
      ],
      "metadata": {
        "colab": {
          "base_uri": "https://localhost:8080/"
        },
        "id": "8soOEEV_vN3Z",
        "outputId": "9320f8bb-3dec-4d7a-ce86-ec8b29ce289e"
      },
      "id": "8soOEEV_vN3Z",
      "execution_count": 37,
      "outputs": [
        {
          "output_type": "execute_result",
          "data": {
            "text/plain": [
              "[('Microsoft', 'ORG'),\n",
              " ('1975', 'DATE'),\n",
              " ('Bill Gates', 'PERSON'),\n",
              " ('Paul Allen', 'PERSON'),\n",
              " ('Redmond', 'GPE'),\n",
              " ('Washington', 'GPE'),\n",
              " ('Microsoft', 'ORG'),\n",
              " ('one', 'CARDINAL'),\n",
              " ('the United States', 'GPE')]"
            ]
          },
          "metadata": {},
          "execution_count": 37
        }
      ]
    },
    {
      "cell_type": "code",
      "source": [
        "# Stemming and Lemmatization"
      ],
      "metadata": {
        "id": "m3UgxNZxvkbS"
      },
      "id": "m3UgxNZxvkbS",
      "execution_count": 38,
      "outputs": []
    },
    {
      "cell_type": "code",
      "source": [
        "print(text)"
      ],
      "metadata": {
        "colab": {
          "base_uri": "https://localhost:8080/"
        },
        "id": "AO3ZY-Gfv5Ug",
        "outputId": "3dcda881-171a-47b0-aac0-caaacf70ec21"
      },
      "id": "AO3ZY-Gfv5Ug",
      "execution_count": 39,
      "outputs": [
        {
          "output_type": "stream",
          "name": "stdout",
          "text": [
            "Embracing life's challenges is like navigating a journey. 🚀\n",
            "Stay motivated, overcome hurdles, and explore new paths to success!\n",
            "Check out inspiring stories at https://motivationalhub.com for an extra boost!\n"
          ]
        }
      ]
    },
    {
      "cell_type": "code",
      "source": [
        "# Stemming using porterstemmer"
      ],
      "metadata": {
        "id": "JOp46sKExDYS"
      },
      "id": "JOp46sKExDYS",
      "execution_count": 40,
      "outputs": []
    },
    {
      "cell_type": "code",
      "source": [
        "word_tokens =  text.lower().split()"
      ],
      "metadata": {
        "id": "8oPExNRvxIRQ"
      },
      "id": "8oPExNRvxIRQ",
      "execution_count": 41,
      "outputs": []
    },
    {
      "cell_type": "code",
      "source": [
        "# instantiate porterstemmer\n",
        "\n",
        "\n",
        "stemmer =  nltk.stem.PorterStemmer()\n",
        "\n",
        "stemmed_tokens =  [stemmer.stem(token) for token in word_tokens]\n",
        "print(text)\n",
        "print(stemmed_tokens)"
      ],
      "metadata": {
        "colab": {
          "base_uri": "https://localhost:8080/"
        },
        "id": "4TRqDGJbxMna",
        "outputId": "332385b1-7a48-4682-b164-68641caf1184"
      },
      "id": "4TRqDGJbxMna",
      "execution_count": 42,
      "outputs": [
        {
          "output_type": "stream",
          "name": "stdout",
          "text": [
            "Embracing life's challenges is like navigating a journey. 🚀\n",
            "Stay motivated, overcome hurdles, and explore new paths to success!\n",
            "Check out inspiring stories at https://motivationalhub.com for an extra boost!\n",
            "['embrac', \"life'\", 'challeng', 'is', 'like', 'navig', 'a', 'journey.', '🚀', 'stay', 'motivated,', 'overcom', 'hurdles,', 'and', 'explor', 'new', 'path', 'to', 'success!', 'check', 'out', 'inspir', 'stori', 'at', 'https://motivationalhub.com', 'for', 'an', 'extra', 'boost!']\n"
          ]
        }
      ]
    },
    {
      "cell_type": "code",
      "source": [
        "# intantiate snowball stemmer for english\n",
        "stemmer2 =  nltk.stem.SnowballStemmer('english')\n",
        "\n",
        "stemmed_tokens2 =  [stemmer2.stem(token) for token in word_tokens]\n",
        "print(text)\n",
        "print(stemmed_tokens2)"
      ],
      "metadata": {
        "colab": {
          "base_uri": "https://localhost:8080/"
        },
        "id": "X2tZXQdYxjm8",
        "outputId": "78657a84-4b77-4cda-9b8f-1cdea7947be8"
      },
      "id": "X2tZXQdYxjm8",
      "execution_count": 45,
      "outputs": [
        {
          "output_type": "stream",
          "name": "stdout",
          "text": [
            "Embracing life's challenges is like navigating a journey. 🚀\n",
            "Stay motivated, overcome hurdles, and explore new paths to success!\n",
            "Check out inspiring stories at https://motivationalhub.com for an extra boost!\n",
            "['embrac', 'life', 'challeng', 'is', 'like', 'navig', 'a', 'journey.', '🚀', 'stay', 'motivated,', 'overcom', 'hurdles,', 'and', 'explor', 'new', 'path', 'to', 'success!', 'check', 'out', 'inspir', 'stori', 'at', 'https://motivationalhub.com', 'for', 'an', 'extra', 'boost!']\n"
          ]
        }
      ]
    },
    {
      "cell_type": "code",
      "source": [
        "from operator import le\n",
        "# Lemmatization\n",
        "# instantiate nltk wordnet lemmatizer\n",
        "lemmatizer =  nltk.stem.WordNetLemmatizer()\n",
        "\n",
        "\n",
        "lemmatized_token =  [lemmatizer.lemmatize(token) for token in word_tokens]\n",
        "print(text)\n",
        "print(lemmatized_token)\n",
        "\n"
      ],
      "metadata": {
        "colab": {
          "base_uri": "https://localhost:8080/"
        },
        "id": "qRHzoxekx1Zb",
        "outputId": "8c71a185-621f-4b63-8e1d-f624854248ef"
      },
      "id": "qRHzoxekx1Zb",
      "execution_count": 46,
      "outputs": [
        {
          "output_type": "stream",
          "name": "stdout",
          "text": [
            "Embracing life's challenges is like navigating a journey. 🚀\n",
            "Stay motivated, overcome hurdles, and explore new paths to success!\n",
            "Check out inspiring stories at https://motivationalhub.com for an extra boost!\n",
            "['embracing', \"life's\", 'challenge', 'is', 'like', 'navigating', 'a', 'journey.', '🚀', 'stay', 'motivated,', 'overcome', 'hurdles,', 'and', 'explore', 'new', 'path', 'to', 'success!', 'check', 'out', 'inspiring', 'story', 'at', 'https://motivationalhub.com', 'for', 'an', 'extra', 'boost!']\n"
          ]
        }
      ]
    },
    {
      "cell_type": "code",
      "source": [],
      "metadata": {
        "id": "mRpOzmHVyy1S"
      },
      "id": "mRpOzmHVyy1S",
      "execution_count": null,
      "outputs": []
    }
  ],
  "metadata": {
    "kernelspec": {
      "display_name": "Python 3",
      "name": "python3"
    },
    "language_info": {
      "codemirror_mode": {
        "name": "ipython",
        "version": 3
      },
      "file_extension": ".py",
      "mimetype": "text/x-python",
      "name": "python",
      "nbconvert_exporter": "python",
      "pygments_lexer": "ipython3",
      "version": "3.12.4"
    },
    "colab": {
      "provenance": [],
      "gpuType": "T4"
    },
    "accelerator": "GPU"
  },
  "nbformat": 4,
  "nbformat_minor": 5
}